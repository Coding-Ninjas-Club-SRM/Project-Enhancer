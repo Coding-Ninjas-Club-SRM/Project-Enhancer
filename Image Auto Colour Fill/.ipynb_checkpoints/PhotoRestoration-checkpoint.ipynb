{
 "cells": [
  {
   "cell_type": "code",
   "execution_count": null,
   "id": "67072a27-eda2-4439-b98f-ef27fab0f53b",
   "metadata": {},
   "outputs": [],
   "source": [
    "import cv2\n",
    "import numpy as np"
   ]
  },
  {
   "cell_type": "code",
   "execution_count": null,
   "id": "5f7c8f56-d8cf-40a0-a242-5147318c75f5",
   "metadata": {},
   "outputs": [],
   "source": [
    "image = cv2.imread(\"./Images/image3.jpg\")\n",
    "image = cv2.resize(image, (600, 600))"
   ]
  },
  {
   "cell_type": "code",
   "execution_count": null,
   "id": "42dd55bd-930c-407c-bb2f-d8f62e25bee5",
   "metadata": {},
   "outputs": [],
   "source": [
    "dst = cv2.fastNlMeansDenoisingColored(image, None, 11, 6, 7, 21)"
   ]
  },
  {
   "cell_type": "code",
   "execution_count": null,
   "id": "9628b76b-6367-47af-a982-812740f758b2",
   "metadata": {},
   "outputs": [],
   "source": [
    "for i in range(5):\n",
    "    grey = cv2.cvtColor(dst, cv2.COLOR_BGR2GRAY)\n",
    "    thresh1 = cv2.adaptiveThreshold(grey, 255, cv2.ADAPTIVE_THRESH_GAUSSIAN_C, cv2.THRESH_BINARY_INV, 3, 3)\n",
    "    kernel = np.ones((6, 6), np.uint8)\n",
    "    img_dilation = cv2.dilate(thresh1, kernel, iterations=1)\n",
    "    Restored1 = cv2.inpaint(image,img_dilation,5,cv2.INPAINT_TELEA)\n",
    "    dst = cv2.fastNlMeansDenoisingColored(Restored1, None, 11, 6, 7, 21)"
   ]
  },
  {
   "cell_type": "code",
   "execution_count": null,
   "id": "162b11b8-b855-4ef0-804b-776228ddc5c5",
   "metadata": {},
   "outputs": [],
   "source": [
    "cv2.imshow(\"Original\", image)\n",
    "cv2.imshow(\"Restored\", Restored1)\n",
    "\n",
    "cv2.waitKey(0)"
   ]
  },
  {
   "cell_type": "code",
   "execution_count": null,
   "id": "67bedbf5-3705-47d0-8b79-27f42861259c",
   "metadata": {},
   "outputs": [],
   "source": []
  }
 ],
 "metadata": {
  "kernelspec": {
   "display_name": "Python 3 (ipykernel)",
   "language": "python",
   "name": "python3"
  },
  "language_info": {
   "codemirror_mode": {
    "name": "ipython",
    "version": 3
   },
   "file_extension": ".py",
   "mimetype": "text/x-python",
   "name": "python",
   "nbconvert_exporter": "python",
   "pygments_lexer": "ipython3",
   "version": "3.9.6"
  }
 },
 "nbformat": 4,
 "nbformat_minor": 5
}
